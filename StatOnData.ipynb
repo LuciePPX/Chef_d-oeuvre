{
 "cells": [
  {
   "cell_type": "markdown",
   "metadata": {},
   "source": [
    "## **Dans se fichier StatOnBoat.ipynb** <br>\n",
    "\n",
    "On sait que sur la journée du 11 sept 2014 sur la zone de la rochelle de 9h à 17h il y a eu 21 bâteaux <br>\n",
    "\n",
    "Le but de ce fichier est donc de se rapporcher de cette valeur grâce à la segmentation de données sur les images 2014\n",
    "\n",
    "De plus si on affiche ces points sur une cartes ils ne fdoivent pas apparaitre sur une zone terrestre \n",
    "\n",
    "**Perspectives** Une fois des chiffres cohérents trouvés avec la vérité terrain de 2014, on pourra tracker ces plots \n",
    "\n",
    "**Données**\n",
    " images : P2P = 65 thersholdt = 0.5 0-360° <br>\n",
    "hauteur=2500 #mètres<br>\n",
    "longueur=360 #degrés<br>\n",
    "taille=4096 #pixels<br>\n",
    "\n",
    "vérité : #position RADAR /!\\ Campagne 2015 appliqué à 2014<br>\n",
    "lat = 46.154533<br>\n",
    "long = -1.233523<br>\n",
    "\n"
   ]
  },
  {
   "cell_type": "markdown",
   "metadata": {},
   "source": [
    "### Données "
   ]
  },
  {
   "cell_type": "code",
   "execution_count": 1,
   "metadata": {},
   "outputs": [],
   "source": [
    "#position RADAR /!\\ Campagne 2015 appliqué à 2014\n",
    "lat = 46.154533\n",
    "long = -1.233523\n",
    "\n",
    "#image \n",
    "hauteur=2500 #mètres\n",
    "longueur=360 #degrés\n",
    "taille=4096 #pixels"
   ]
  },
  {
   "cell_type": "markdown",
   "metadata": {},
   "source": [
    "### Importations"
   ]
  },
  {
   "cell_type": "code",
   "execution_count": 2,
   "metadata": {},
   "outputs": [],
   "source": [
    "\n",
    "from newCode.traitementImage import traitement,contour_image\n",
    "\n"
   ]
  },
  {
   "cell_type": "code",
   "execution_count": 3,
   "metadata": {},
   "outputs": [
    {
     "name": "stderr",
     "output_type": "stream",
     "text": [
      "Lecture des images:   0%|          | 0/271 [00:00<?, ?it/s]"
     ]
    },
    {
     "name": "stderr",
     "output_type": "stream",
     "text": [
      "Lecture des images: 100%|██████████| 271/271 [00:45<00:00,  5.92it/s]\n"
     ]
    },
    {
     "name": "stdout",
     "output_type": "stream",
     "text": [
      "seuil de viabilité du radar : 3596\n"
     ]
    },
    {
     "name": "stderr",
     "output_type": "stream",
     "text": [
      "Recherche des bateaux: 100%|██████████| 271/271 [00:58<00:00,  4.64it/s]\n"
     ]
    }
   ],
   "source": [
    "cParImage2014, pParImage2014, seuilRadar= traitement(\"../Image/2014/ImageBestConfig#1\")"
   ]
  },
  {
   "cell_type": "code",
   "execution_count": 4,
   "metadata": {},
   "outputs": [],
   "source": [
    "from trackingOnMap import trackBoat"
   ]
  },
  {
   "cell_type": "code",
   "execution_count": 5,
   "metadata": {},
   "outputs": [
    {
     "name": "stderr",
     "output_type": "stream",
     "text": [
      "tracking des bâteaux: 100%|██████████| 270/270 [00:00<00:00, 902.14it/s] "
     ]
    },
    {
     "name": "stdout",
     "output_type": "stream",
     "text": [
      "271\n"
     ]
    },
    {
     "name": "stderr",
     "output_type": "stream",
     "text": [
      "\n"
     ]
    }
   ],
   "source": [
    "allTrack=trackBoat(pParImage2014)\n",
    "\n",
    "print(len(allTrack[0]))"
   ]
  },
  {
   "cell_type": "code",
   "execution_count": 6,
   "metadata": {},
   "outputs": [],
   "source": [
    "from trackingOnMap import trackOnMap"
   ]
  },
  {
   "cell_type": "code",
   "execution_count": 7,
   "metadata": {},
   "outputs": [
    {
     "name": "stdout",
     "output_type": "stream",
     "text": [
      "9 bâteaux affichés sur la carte\n"
     ]
    }
   ],
   "source": [
    "trackOnMap(allTrack)"
   ]
  },
  {
   "cell_type": "code",
   "execution_count": 8,
   "metadata": {},
   "outputs": [],
   "source": [
    "def findNewBoat(pointBoat,pointImage):\n",
    "    \n",
    "\n",
    "        \n",
    "    for p in point:\n",
    "        balise = False\n",
    "        for boat in pointBoat:\n",
    "            if p[1] in boat : \n",
    "                balise = True \n",
    "\n",
    "        # si le point n'a pas été associé a un bâteau alors nouveau bâteau\n",
    "        if not(balise):\n",
    "            boat=[None]*(len(listeBoat[0])-1)\n",
    "            boat.append(point)\n",
    "            listeBoat.append(boat)\n",
    "\n",
    "    return listeBoat\n"
   ]
  },
  {
   "cell_type": "code",
   "execution_count": 9,
   "metadata": {},
   "outputs": [],
   "source": [
    "def countBoat(allPointperImg):\n",
    "\n",
    "    boats=[]\n",
    "    bT= 0\n",
    "    bperI = []\n",
    "    for img in allPointperImg:\n",
    "        b=0\n",
    "        for p in img:\n",
    "            if p not in boats:\n",
    "                boats.append(p)\n",
    "                b+=1\n",
    "                bT+=1\n",
    "        bperI.append(b)\n",
    "\n",
    "    return bT,bperI\n",
    "\n"
   ]
  },
  {
   "cell_type": "code",
   "execution_count": 10,
   "metadata": {},
   "outputs": [
    {
     "ename": "NameError",
     "evalue": "name 'allPoint2014' is not defined",
     "output_type": "error",
     "traceback": [
      "\u001b[1;31m---------------------------------------------------------------------------\u001b[0m",
      "\u001b[1;31mNameError\u001b[0m                                 Traceback (most recent call last)",
      "Cell \u001b[1;32mIn[10], line 1\u001b[0m\n\u001b[1;32m----> 1\u001b[0m bT, bperI \u001b[38;5;241m=\u001b[39m countBoat(\u001b[43mallPoint2014\u001b[49m)\n\u001b[0;32m      2\u001b[0m \u001b[38;5;28mprint\u001b[39m(\u001b[38;5;124mf\u001b[39m\u001b[38;5;124m\"\u001b[39m\u001b[38;5;124m Nombre de bâteaux sur toutes les images: \u001b[39m\u001b[38;5;132;01m{\u001b[39;00mbT\u001b[38;5;132;01m}\u001b[39;00m\u001b[38;5;124m, \u001b[39m\u001b[38;5;130;01m\\n\u001b[39;00m\u001b[38;5;124m Nombre de bâteaux par image: \u001b[39m\u001b[38;5;132;01m{\u001b[39;00mbperI\u001b[38;5;132;01m}\u001b[39;00m\u001b[38;5;124m, \u001b[39m\u001b[38;5;130;01m\\n\u001b[39;00m\u001b[38;5;124m Nombre de bâteaux max sur une image: \u001b[39m\u001b[38;5;132;01m{\u001b[39;00m\u001b[38;5;28mmax\u001b[39m(bperI)\u001b[38;5;132;01m}\u001b[39;00m\u001b[38;5;124m\"\u001b[39m)\n",
      "\u001b[1;31mNameError\u001b[0m: name 'allPoint2014' is not defined"
     ]
    }
   ],
   "source": [
    "bT, bperI = countBoat(allPoint2014)\n",
    "print(f\" Nombre de bâteaux sur toutes les images: {bT}, \\n Nombre de bâteaux par image: {bperI}, \\n Nombre de bâteaux max sur une image: {max(bperI)}\")"
   ]
  },
  {
   "cell_type": "code",
   "execution_count": null,
   "metadata": {},
   "outputs": [],
   "source": [
    "def plotImage(image, seuil_y, aire=False, contour=True, marqueur=True, position = False):\n",
    "\n",
    "    contours, points = contour_image(image, seuil_y)\n",
    "    img = image.copy()\n",
    "    \n",
    "    for c in range (len(contours)):\n",
    "\n",
    "        # ligne de de séparation entre données utilisables ou non \n",
    "        cv2.line(img,  (0, seuil_y), (img.shape[1], seuil_y), (200, 30, 255), 2)\n",
    "        \n",
    "        if contour :\n",
    "            # le contour de la ième tâche de la liste  \n",
    "            cv2.drawContours(img, [contours[c][0]], -1, (0, 255, 0), 2)\n",
    "        if aire :\n",
    "            #affichage de l'aire \n",
    "            cv2.putText(img,f\" s: {np.round(contours[c][1],0)}\",(points[c][0]),cv2.FONT_HERSHEY_SIMPLEX,2.5,(255, 255, 255),10) \n",
    "        if position: \n",
    "            #Affichage Lat, Long \n",
    "            cv2.putText(img, f\"{np.round(points[c][1],2)}\",(points[c][0]),cv2.FONT_HERSHEY_SIMPLEX,2.5,(255, 255, 255),10)\n",
    "        if marqueur:\n",
    "            #Affichage d'une croix au centre \n",
    "            cv2.drawMarker(img, points[c][0],(255, 0, 167), 5 , 2)\n",
    "        \n",
    "    return img\n",
    "\n"
   ]
  },
  {
   "cell_type": "code",
   "execution_count": null,
   "metadata": {},
   "outputs": [],
   "source": [
    "def imageToVideo(Limages):\n",
    "\n",
    "    height, width, _ = Limages[0].shape\n",
    "\n",
    "    chemin_sortie=os.path.join(\"../OutputVideo/2014\",f'VideoAlltask2014.mp4')\n",
    "\n",
    "    # Définition VideoWriter\n",
    "    video = cv2.VideoWriter(chemin_sortie,cv2.VideoWriter_fourcc(*'mp4v'), 30, (width, height))\n",
    "\n",
    "    # Ajout des images à la vidéo\n",
    "    for image in tqdm(Limages, desc=\"Réalisation de la vidéo\"):\n",
    "        video.write(image)\n",
    "\n",
    "    # Fermeture de l'objet VideoWriter\n",
    "    video.release()"
   ]
  },
  {
   "cell_type": "code",
   "execution_count": null,
   "metadata": {},
   "outputs": [],
   "source": [
    "imageDraw_2014=[]\n",
    "\n",
    "for image in tqdm(imageRead_2014, \"Traitement images\"):\n",
    "                \n",
    "    imageDraw_2014.append(plotImage(image,seuil_y,aire=True))\n",
    "\n"
   ]
  },
  {
   "cell_type": "code",
   "execution_count": null,
   "metadata": {},
   "outputs": [],
   "source": [
    "imageToVideo(imageDraw_2014)"
   ]
  }
 ],
 "metadata": {
  "kernelspec": {
   "display_name": "Python 3",
   "language": "python",
   "name": "python3"
  },
  "language_info": {
   "codemirror_mode": {
    "name": "ipython",
    "version": 3
   },
   "file_extension": ".py",
   "mimetype": "text/x-python",
   "name": "python",
   "nbconvert_exporter": "python",
   "pygments_lexer": "ipython3",
   "version": "3.11.8"
  }
 },
 "nbformat": 4,
 "nbformat_minor": 2
}
