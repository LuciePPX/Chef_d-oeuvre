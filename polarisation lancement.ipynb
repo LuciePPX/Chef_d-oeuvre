{
 "cells": [
  {
   "cell_type": "code",
   "execution_count": 1,
   "metadata": {},
   "outputs": [],
   "source": [
    "\n",
    "from RectToPolaire import polarisation"
   ]
  },
  {
   "cell_type": "code",
   "execution_count": 2,
   "metadata": {},
   "outputs": [
    {
     "name": "stderr",
     "output_type": "stream",
     "text": [
      "Polarisation:   0%|          | 0/271 [00:00<?, ?it/s]"
     ]
    },
    {
     "name": "stderr",
     "output_type": "stream",
     "text": [
      "Polarisation:   7%|▋         | 20/271 [04:24<58:39, 14.02s/it]  c:\\Users\\lucie.papaix\\Documents\\Periode entreprise\\6 - Période 19.02 to 1.04\\Imagerie\\newCode\\RectToPolaire.py:31: RuntimeWarning: More than 20 figures have been opened. Figures created through the pyplot interface (`matplotlib.pyplot.figure`) are retained until explicitly closed and may consume too much memory. (To control this warning, see the rcParam `figure.max_open_warning`). Consider using `matplotlib.pyplot.close()`.\n",
      "  fig1, ax1 = plt.subplots(subplot_kw={'projection': 'polar'})\n",
      "Polarisation:  25%|██▍       | 67/271 [15:10<46:11, 13.59s/it]\n"
     ]
    }
   ],
   "source": [
    "polarisation(\"../Image/2014/ImageBestConfig#1\")"
   ]
  },
  {
   "cell_type": "code",
   "execution_count": null,
   "metadata": {},
   "outputs": [],
   "source": []
  }
 ],
 "metadata": {
  "kernelspec": {
   "display_name": "Python 3",
   "language": "python",
   "name": "python3"
  },
  "language_info": {
   "codemirror_mode": {
    "name": "ipython",
    "version": 3
   },
   "file_extension": ".py",
   "mimetype": "text/x-python",
   "name": "python",
   "nbconvert_exporter": "python",
   "pygments_lexer": "ipython3",
   "version": "3.11.8"
  }
 },
 "nbformat": 4,
 "nbformat_minor": 2
}
