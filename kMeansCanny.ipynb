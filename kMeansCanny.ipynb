{
 "cells": [
  {
   "cell_type": "markdown",
   "metadata": {},
   "source": [
    "## **Dans se fichier kMeansCanny** <br>\n",
    "\n",
    "On prend en argument une unique image RADAR : *2014-09-11T09-08-52-300.png*<br>\n",
    "\n",
    "On applique un **pré-traitement de l'image** qui vise à localiser les tâches correspondantes aux cibles détectées par le Radar, par un détourage de chaque tâche avec **l'algorithme Canny** *qui prend 2 paramètres de seuillage allant de 0 à 255* <br>\n",
    "\n",
    "Puis, On applique la **méthode non supervisée kMeans** en prenant comme feature : **la longueur du contour des tâches**, *l'intêret étant de pouvoir traiter plus facilement par la suite les effets géométriques dûs au radrar.* Et en cleusterinsant en **5 classes** : *l'idée étant de faire ressortir 3 classes de bateaux : Petit, Moyen, Grand & 2 classe Unknow : PetiteAnomalie (ex: remoue de vagues), grandeAnomalie *(contenant les côtes)* <br>\n",
    "\n",
    "Enfin, afin de **visualiser le clustering** on colore chaque contour de tâche par sa classe associée"
   ]
  },
  {
   "cell_type": "markdown",
   "metadata": {},
   "source": [
    "### **Importations**"
   ]
  },
  {
   "cell_type": "code",
   "execution_count": 8,
   "metadata": {},
   "outputs": [],
   "source": [
    "import cv2\n",
    "import numpy as np\n",
    "from sklearn.cluster import KMeans\n",
    "import matplotlib.pyplot as plt"
   ]
  },
  {
   "cell_type": "markdown",
   "metadata": {},
   "source": [
    "### **Traitement de l'image** <br>\n",
    "\n",
    "#### Détection contour des tâches"
   ]
  },
  {
   "cell_type": "code",
   "execution_count": 9,
   "metadata": {},
   "outputs": [],
   "source": [
    "# Chemin vers le répertoire contenant les images radar\n",
    "image= \"../Image radar/2014-09-11T09-08-52-300.png\"\n",
    "\n",
    "# Charger l'image\n",
    "image = cv2.imread(image) \n",
    "\n",
    "# Convertir en niveaux de gris (intéret : Amélioration contraste, simplification du traitement, adaptabilité à la méthode, réduction de la complexité)\n",
    "gray = cv2.cvtColor(image, cv2.COLOR_BGR2GRAY)\n",
    "\n",
    "# Appliquer l'algorithme de détection de contours Canny\n",
    "edges = cv2.Canny(gray, 50, 150)\n",
    "\n",
    "# Trouver les contours dans l'image\n",
    "contours, _ = cv2.findContours(edges, cv2.RETR_EXTERNAL, cv2.CHAIN_APPROX_SIMPLE)"
   ]
  },
  {
   "cell_type": "markdown",
   "metadata": {},
   "source": [
    "### **Méthode non supervisé des K-means** <br>\n",
    "\n",
    "#### Préparer les features"
   ]
  },
  {
   "cell_type": "code",
   "execution_count": 10,
   "metadata": {},
   "outputs": [],
   "source": [
    "# Calculer la longueur du contour pour chaque tâche\n",
    "contour_lengths = [len(contour) for contour in contours]\n",
    "\n",
    "# Convertir la liste en un tableau numpy\n",
    "contour_lengths = np.array(contour_lengths).reshape(-1, 1) #Chaque contour est transformé en un vecteur à une dimension"
   ]
  },
  {
   "cell_type": "code",
   "execution_count": 11,
   "metadata": {},
   "outputs": [],
   "source": [
    "def extract_features(edges):\n",
    "    features = []\n",
    "\n",
    "    # Recherche des contours\n",
    "    contours, _ = cv2.findContours(edges, cv2.RETR_EXTERNAL, cv2.CHAIN_APPROX_SIMPLE)\n",
    "\n",
    "    for contour in contours:\n",
    "        # Calcul de l'aire\n",
    "        area = np.sum(contour)\n",
    "        \n",
    "        # Calcul du périmètre\n",
    "        perimeter = len(contour) \n",
    "        # Convertir la liste en un tableau numpy\n",
    "        \n",
    "        # Calcul de la circularité\n",
    "        circularity = (4 * np.pi * area) / (perimeter ** 2)\n",
    "\n",
    "        # Calcul du rectangle englobant\n",
    "        _, _, w, h = cv2.boundingRect(contour)\n",
    "        aspect_ratio = float(w) / h\n",
    "\n",
    "        # Calcul des moments et des moments de Hu\n",
    "        # moments = cv2.moments(contour)\n",
    "        # hu_moments = cv2.HuMoments(moments).flatten()\n",
    "        # print(\"hu\", hu_moments)\n",
    "\n",
    "\n",
    "        # Ajout des caractéristiques à la liste des features\n",
    "        features.append([area,perimeter, circularity, aspect_ratio])  #A modifier selon les features que l'on veut area, perimeter, circularity, aspect_ratio, hu_moments\n",
    "    \n",
    "    return np.array(features)"
   ]
  },
  {
   "cell_type": "code",
   "execution_count": 12,
   "metadata": {},
   "outputs": [],
   "source": [
    "features = extract_features(edges)  "
   ]
  },
  {
   "cell_type": "markdown",
   "metadata": {},
   "source": [
    "#### Appliquer l'algorihtme Kmeans "
   ]
  },
  {
   "cell_type": "code",
   "execution_count": 13,
   "metadata": {},
   "outputs": [
    {
     "name": "stderr",
     "output_type": "stream",
     "text": [
      "C:\\Users\\lucie.papaix\\AppData\\Local\\Packages\\PythonSoftwareFoundation.Python.3.11_qbz5n2kfra8p0\\LocalCache\\local-packages\\Python311\\site-packages\\sklearn\\cluster\\_kmeans.py:1416: FutureWarning: The default value of `n_init` will change from 10 to 'auto' in 1.4. Set the value of `n_init` explicitly to suppress the warning\n",
      "  super()._check_params_vs_input(X, default_n_init=10)\n"
     ]
    }
   ],
   "source": [
    "# Utiliser KMeans pour regrouper les tâches en 4 clusters\n",
    "kmeans = KMeans(n_clusters=5)\n",
    "#kmeans.fit(contour_lengths)\n",
    "kmeans.fit(features)\n",
    "labels = kmeans.labels_"
   ]
  },
  {
   "cell_type": "markdown",
   "metadata": {},
   "source": [
    "### **Visualiser le clustering**\n",
    "\n",
    "#### Colorer chaque tâche par sa couleur de classe associé par k-means"
   ]
  },
  {
   "cell_type": "code",
   "execution_count": 14,
   "metadata": {},
   "outputs": [
    {
     "data": {
      "image/png": "[encoded data removed]",
      "text/plain": [
       "<Figure size 640x480 with 1 Axes>"
      ]
     },
     "metadata": {},
     "output_type": "display_data"
    }
   ],
   "source": [
    "# Dessiner les contours colorés selon leur cluster\n",
    "image_with_contours = np.copy(image)\n",
    "for i, contour in enumerate(contours):\n",
    "    color = (0, 0, 0)  # Couleur par défaut\n",
    "    if labels[i] == 0:\n",
    "        color = (255, 0, 0)  # Rouge\n",
    "    elif labels[i] == 1:\n",
    "        color = (0, 255, 0)  # Vert\n",
    "    elif labels[i] == 2:\n",
    "        color = (0, 0, 255)  # Bleu\n",
    "    elif labels[i] == 3:\n",
    "        color = (255, 0, 255)  # Magenta\n",
    "    elif labels[i] == 4:\n",
    "        color = (0,255,255) # Cyan\n",
    "\n",
    "    cv2.drawContours(image_with_contours, [contour], -1, color, 2)\n",
    "\n",
    "# Afficher l'image avec les contours colorés\n",
    "plt.imshow(cv2.cvtColor(image_with_contours, cv2.COLOR_BGR2RGB))\n",
    "plt.axis('off')\n",
    "plt.show()\n"
   ]
  },
  {
   "cell_type": "markdown",
   "metadata": {},
   "source": [
    "## **Conclusion** <br>\n",
    "\n",
    "l'algorithme kmeans avec détection et traitement des contours des tâches a été efficasse.<br>\n",
    "On pourrait dire : <br> \n",
    "- Classe bleue -> petites cibles \n",
    "- Classe rouge -> moyennes cibles\n",
    "- Classe magenta -> grandes cibles \n",
    "- Classe verte -> autres cibles\n",
    "\n",
    "Sur la zone basse de l'image, mauvaise détection, il faudrait que se soit une unique tâche qui soit associé à la classe *autre cible* ***Piste**: seuillage sur Canny*\n",
    "\n",
    "**Perspectives**: Effets géométriques *(profondeur, angle, distorsion,...)*, temps, traitement sur plusieurs images, prise en compte de plus de features *(Surface/Aire, Moments de forme [infos/caratéristique & texture de la forme], texture, géométrie)*"
   ]
  },
  {
   "cell_type": "markdown",
   "metadata": {},
   "source": []
  }
 ],
 "metadata": {
  "kernelspec": {
   "display_name": "Python 3",
   "language": "python",
   "name": "python3"
  },
  "language_info": {
   "codemirror_mode": {
    "name": "ipython",
    "version": 3
   },
   "file_extension": ".py",
   "mimetype": "text/x-python",
   "name": "python",
   "nbconvert_exporter": "python",
   "pygments_lexer": "ipython3",
   "version": "3.11.6"
  }
 },
 "nbformat": 4,
 "nbformat_minor": 2
}
